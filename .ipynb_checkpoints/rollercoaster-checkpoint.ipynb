{
 "cells": [
  {
   "cell_type": "markdown",
   "metadata": {},
   "source": [
    "# Roller Coaster\n",
    "\n",
    "The purpose of this task is to create several data visualizationa that will give you insight into the world of rolloer coasters. \n",
    "\n",
    "Roller coasters are thrlling amusement park rides designed to make you squal and scream! They take you high, drop you to the ground quickly, and sometimes even spin you upside down before returning to a stop. Today you will be taking control back from the roller coasters and visualizing data covering international roller coaster rankings and roller coaster statistics. \n",
    "\n",
    "Roller coasters ar often split into two main categories based on their construction material: wood or steel. Rankings for the best wood and steel roller coasters from the 2013 to 2018 Golden Ticket Awards are provided in 'Golden_Ticket_Award_Winners_Wood.csv' and 'Golden_Ticket_Award_Winners_Steel.csv', respectively. Load each csv into a DataFrame and inspect it to gain familiraity with the data. "
   ]
  },
  {
   "cell_type": "code",
   "execution_count": 4,
   "metadata": {},
   "outputs": [],
   "source": [
    "import pandas as pd \n",
    "import matplotlib.pyplot as plt"
   ]
  },
  {
   "cell_type": "markdown",
   "metadata": {},
   "source": [
    "#####   Load Rankings Data"
   ]
  },
  {
   "cell_type": "code",
   "execution_count": 42,
   "metadata": {
    "scrolled": true
   },
   "outputs": [],
   "source": [
    "# load rankings data here:\n",
    "\n",
    "steel_rankings = pd.read_csv('Golden_Ticket_Award_Winners_Steel.csv')\n",
    "wood_rankings = pd.read_csv('Golden_Ticket_Award_Winners_Wood.csv')\n",
    "\n",
    "# print(steel_rankings.head())\n",
    "# print(wood_rankings.head())"
   ]
  },
  {
   "cell_type": "markdown",
   "metadata": {},
   "source": [
    "Write a function that will plot the ranking of a given roller coaster over time as a line. Your function should take a roller coaster's name and a ranking DataFrame as arguments. Make sure to include informative labels that describe your visualization. \n",
    "\n",
    "Call your function with 'El Toro' as the roller coaster name and the wood ranking DataFrame. What issue do you notice? Update your function with an additional argument to alleviate the problem, and retest your function"
   ]
  },
  {
   "cell_type": "code",
   "execution_count": 49,
   "metadata": {},
   "outputs": [
    {
     "data": {
      "image/png": "[encoded data removed]",
      "text/plain": [
       "<Figure size 432x288 with 1 Axes>"
      ]
     },
     "metadata": {
      "needs_background": "light"
     },
     "output_type": "display_data"
    },
    {
     "name": "stdout",
     "output_type": "stream",
     "text": [
      "     Rank     Name                       Park       Location Supplier  \\\n",
      "1       2  El Toro  Six Flags Great Adventure  Jackson, N.J.  Intamin   \n",
      "11      2  El Toro  Six Flags Great Adventure  Jackson, N.J.  Intamin   \n",
      "21      2  El Toro  Six Flags Great Adventure  Jackson, N.J.  Intamin   \n",
      "32      3  El Toro  Six Flags Great Adventure  Jackson, N.J.  Intamin   \n",
      "80      1  El Toro  Six Flags Great Adventure  Jackson, N.J.  Intamin   \n",
      "131     2  El Toro  Six Flags Great Adventure  Jackson, N.J.  Intamin   \n",
      "\n",
      "     Year Built  Points  Year of Rank  \n",
      "1          2006    1302          2013  \n",
      "11         2006    1291          2014  \n",
      "21         2006    1464          2015  \n",
      "32         2006    1121          2016  \n",
      "80         2009    1241          2017  \n",
      "131        2006    1197          2018  \n",
      "None\n"
     ]
    }
   ],
   "source": [
    "# write function to plot rankings over time for 1 roller coaster here:\n",
    "# Group by roller coaster\n",
    "def line_ranking(roller_coaster, park_name):\n",
    "    rankings = wood_rankings.loc[(wood_rankings['Name'] == roller_coaster) & (wood_rankings['Park'] == park_name)]\n",
    "    ax = plt.subplot()\n",
    "    ax.set_xticks(range(len(rankings)))\n",
    "    plt.plot(range(len(rankings)), rankings['Rank'])\n",
    "    ax.set_xticklabels(['2013', '2014', '2015', '2016', '2017', '2018'])\n",
    "    ax.invert_yaxis()\n",
    "    plt.show()\n",
    "    print(rankings)\n",
    "    \n",
    "print(line_ranking('El Toro', 'Six Flags Great Adventure'))\n",
    "\n"
   ]
  },
  {
   "cell_type": "code",
   "execution_count": null,
   "metadata": {},
   "outputs": [],
   "source": []
  },
  {
   "cell_type": "code",
   "execution_count": null,
   "metadata": {},
   "outputs": [],
   "source": []
  }
 ],
 "metadata": {
  "kernelspec": {
   "display_name": "Python 3",
   "language": "python",
   "name": "python3"
  },
  "language_info": {
   "codemirror_mode": {
    "name": "ipython",
    "version": 3
   },
   "file_extension": ".py",
   "mimetype": "text/x-python",
   "name": "python",
   "nbconvert_exporter": "python",
   "pygments_lexer": "ipython3",
   "version": "3.7.4"
  }
 },
 "nbformat": 4,
 "nbformat_minor": 2
}
